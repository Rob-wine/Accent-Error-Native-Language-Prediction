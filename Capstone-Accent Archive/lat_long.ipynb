{
 "cells": [
  {
   "cell_type": "code",
   "execution_count": 1,
   "metadata": {},
   "outputs": [
    {
     "name": "stdout",
     "output_type": "stream",
     "text": [
      "Requirement already satisfied: opencage in /Users/robynhillman-harrigan/opt/anaconda3/lib/python3.7/site-packages (1.2.1)\n",
      "Requirement already satisfied: backoff>=1.10.0 in /Users/robynhillman-harrigan/opt/anaconda3/lib/python3.7/site-packages (from opencage) (1.10.0)\n",
      "Requirement already satisfied: six>=1.4.0 in /Users/robynhillman-harrigan/opt/anaconda3/lib/python3.7/site-packages (from opencage) (1.14.0)\n",
      "Requirement already satisfied: pyopenssl>=0.15.1 in /Users/robynhillman-harrigan/opt/anaconda3/lib/python3.7/site-packages (from opencage) (19.1.0)\n",
      "Requirement already satisfied: Requests>=2.2.0 in /Users/robynhillman-harrigan/opt/anaconda3/lib/python3.7/site-packages (from opencage) (2.23.0)\n",
      "Requirement already satisfied: cryptography>=2.8 in /Users/robynhillman-harrigan/opt/anaconda3/lib/python3.7/site-packages (from pyopenssl>=0.15.1->opencage) (2.8)\n",
      "Requirement already satisfied: urllib3!=1.25.0,!=1.25.1,<1.26,>=1.21.1 in /Users/robynhillman-harrigan/opt/anaconda3/lib/python3.7/site-packages (from Requests>=2.2.0->opencage) (1.25.8)\n",
      "Requirement already satisfied: certifi>=2017.4.17 in /Users/robynhillman-harrigan/opt/anaconda3/lib/python3.7/site-packages (from Requests>=2.2.0->opencage) (2020.4.5.1)\n",
      "Requirement already satisfied: idna<3,>=2.5 in /Users/robynhillman-harrigan/opt/anaconda3/lib/python3.7/site-packages (from Requests>=2.2.0->opencage) (2.9)\n",
      "Requirement already satisfied: chardet<4,>=3.0.2 in /Users/robynhillman-harrigan/opt/anaconda3/lib/python3.7/site-packages (from Requests>=2.2.0->opencage) (3.0.4)\n",
      "Requirement already satisfied: cffi!=1.11.3,>=1.8 in /Users/robynhillman-harrigan/opt/anaconda3/lib/python3.7/site-packages (from cryptography>=2.8->pyopenssl>=0.15.1->opencage) (1.14.0)\n",
      "Requirement already satisfied: pycparser in /Users/robynhillman-harrigan/opt/anaconda3/lib/python3.7/site-packages (from cffi!=1.11.3,>=1.8->cryptography>=2.8->pyopenssl>=0.15.1->opencage) (2.20)\n"
     ]
    }
   ],
   "source": [
    "!pip install opencage\n",
    "\n",
    "\n",
    "from tqdm import tqdm\n",
    "\n",
    "from opencage.geocoder import OpenCageGeocode\n",
    "\n",
    "import os\n",
    "import ast\n",
    "import pandas as pd\n",
    "import numpy as np"
   ]
  },
  {
   "cell_type": "code",
   "execution_count": 2,
   "metadata": {},
   "outputs": [
    {
     "name": "stderr",
     "output_type": "stream",
     "text": [
      " 80%|████████  | 1020/1271 [23:05<07:56,  1.90s/it]"
     ]
    },
    {
     "name": "stdout",
     "output_type": "stream",
     "text": [
      "failed babadag, romanian\n"
     ]
    },
    {
     "name": "stderr",
     "output_type": "stream",
     "text": [
      " 84%|████████▎ | 1062/1271 [24:02<04:38,  1.33s/it]"
     ]
    },
    {
     "name": "stdout",
     "output_type": "stream",
     "text": [
      "failed zrenjanin, serbia, yugoslavia\n"
     ]
    },
    {
     "name": "stderr",
     "output_type": "stream",
     "text": [
      " 93%|█████████▎| 1176/1271 [26:42<02:11,  1.38s/it]"
     ]
    },
    {
     "name": "stdout",
     "output_type": "stream",
     "text": [
      "failed nan\n"
     ]
    },
    {
     "name": "stderr",
     "output_type": "stream",
     "text": [
      "100%|██████████| 1271/1271 [28:50<00:00,  1.36s/it]\n"
     ]
    },
    {
     "name": "stdout",
     "output_type": "stream",
     "text": [
      "missed 6 birthplace lat lngs\n",
      "failed nan\n",
      "missed 6 country lat lngs\n"
     ]
    }
   ],
   "source": [
    "\n",
    "#TODO replace with df_meta then when join with df_pass in next notebook will make sense\n",
    "# no maybe has to be like this becuase df meta does not have \"filing missing\" column\n",
    "\n",
    "base = 'data/'\n",
    "\n",
    "\n",
    "# load data and remove empty columns\n",
    "df_speakers = pd.read_csv(base+'speakers_all.csv')\n",
    "df_speakers = df_speakers.drop(columns=[ 'Unnamed: 9', 'Unnamed: 10','Unnamed: 11'])\n",
    "\n",
    "# remove speakers that don't have audio file\n",
    "df_speakers = df_speakers[~df_speakers['file_missing?']]\n",
    "# only needs to be run once!!!\n",
    "####### Get Lat Lng for birthplace and country of residence #########\n",
    "\n",
    "# for GEO API\n",
    "key = '5e96746aec93410f93415a7b9aee3240'\n",
    "geocoder = OpenCageGeocode(key)\n",
    "\n",
    "def get_latlng(place):\n",
    "    \"\"\"\n",
    "    Purpose: get lat,lng of city,state, country or city, country\n",
    "    \"\"\"\n",
    "    \n",
    "    try:\n",
    "        result = geocoder.geocode(place)    \n",
    "\n",
    "        # parse API results\n",
    "        lat = result[0]['annotations']['DMS']['lat']\n",
    "        lng = result[0]['annotations']['DMS']['lng']\n",
    "        return lat,lng\n",
    "    \n",
    "    except:\n",
    "        # if failed try another way\n",
    "        print('failed',place)\n",
    "        return None\n",
    "    \n",
    "    \n",
    "# fill in latlon for birthplace of each speaker in df\n",
    "# don't relook up same place more than once because the API has a limit and I dont have all day\n",
    "birthplace_lanlng_map = {birthplace:get_latlng(birthplace) for birthplace in tqdm(df_speakers['birthplace'].unique())}\n",
    "df_speakers['birthplace_latlng'] = df_speakers['birthplace'].map(birthplace_lanlng_map)\n",
    "print('missed' ,df_speakers['birthplace_latlng'].isna().sum() , 'birthplace lat lngs')\n",
    "\n",
    "country_lanlng_map = {country:get_latlng(country) for country in df_speakers['country'].unique()}\n",
    "df_speakers['country_latlng'] = df_speakers['country'].map(birthplace_lanlng_map)\n",
    "print('missed' ,df_speakers['birthplace_latlng'].isna().sum() , 'country lat lngs')\n",
    "\n",
    "\n",
    "\n",
    "# save it down cause who wants to do this twice\n",
    "df_speakers.to_json(base+'speakers_latlng.json')\n"
   ]
  },
  {
   "cell_type": "code",
   "execution_count": null,
   "metadata": {},
   "outputs": [],
   "source": [
    "df_speakers.head()"
   ]
  }
 ],
 "metadata": {
  "kernelspec": {
   "display_name": "Python 3",
   "language": "python",
   "name": "python3"
  },
  "language_info": {
   "codemirror_mode": {
    "name": "ipython",
    "version": 3
   },
   "file_extension": ".py",
   "mimetype": "text/x-python",
   "name": "python",
   "nbconvert_exporter": "python",
   "pygments_lexer": "ipython3",
   "version": "3.7.7"
  }
 },
 "nbformat": 4,
 "nbformat_minor": 4
}
